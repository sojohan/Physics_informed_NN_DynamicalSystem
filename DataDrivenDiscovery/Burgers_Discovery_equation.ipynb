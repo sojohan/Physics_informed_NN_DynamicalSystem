{
  "nbformat": 4,
  "nbformat_minor": 0,
  "metadata": {
    "colab": {
      "provenance": [],
      "gpuType": "T4"
    },
    "kernelspec": {
      "name": "python3",
      "display_name": "Python 3"
    },
    "language_info": {
      "name": "python"
    },
    "accelerator": "GPU"
  },
  "cells": [
    {
      "cell_type": "code",
      "source": [
        "!pip install wandb"
      ],
      "metadata": {
        "colab": {
          "base_uri": "https://localhost:8080/"
        },
        "id": "VfUzkSR1Txr0",
        "outputId": "9f147895-69ec-4bd1-d23c-ca99f73190e3"
      },
      "execution_count": null,
      "outputs": [
        {
          "output_type": "stream",
          "name": "stdout",
          "text": [
            "Collecting wandb\n",
            "  Downloading wandb-0.16.2-py3-none-any.whl (2.2 MB)\n",
            "\u001b[2K     \u001b[90m━━━━━━━━━━━━━━━━━━━━━━━━━━━━━━━━━━━━━━━━\u001b[0m \u001b[32m2.2/2.2 MB\u001b[0m \u001b[31m15.0 MB/s\u001b[0m eta \u001b[36m0:00:00\u001b[0m\n",
            "\u001b[?25hRequirement already satisfied: Click!=8.0.0,>=7.1 in /usr/local/lib/python3.10/dist-packages (from wandb) (8.1.7)\n",
            "Collecting GitPython!=3.1.29,>=1.0.0 (from wandb)\n",
            "  Downloading GitPython-3.1.41-py3-none-any.whl (196 kB)\n",
            "\u001b[2K     \u001b[90m━━━━━━━━━━━━━━━━━━━━━━━━━━━━━━━━━━━━━━━━\u001b[0m \u001b[32m196.4/196.4 kB\u001b[0m \u001b[31m18.3 MB/s\u001b[0m eta \u001b[36m0:00:00\u001b[0m\n",
            "\u001b[?25hRequirement already satisfied: requests<3,>=2.0.0 in /usr/local/lib/python3.10/dist-packages (from wandb) (2.31.0)\n",
            "Requirement already satisfied: psutil>=5.0.0 in /usr/local/lib/python3.10/dist-packages (from wandb) (5.9.5)\n",
            "Collecting sentry-sdk>=1.0.0 (from wandb)\n",
            "  Downloading sentry_sdk-1.39.2-py2.py3-none-any.whl (254 kB)\n",
            "\u001b[2K     \u001b[90m━━━━━━━━━━━━━━━━━━━━━━━━━━━━━━━━━━━━━━━━\u001b[0m \u001b[32m254.1/254.1 kB\u001b[0m \u001b[31m22.3 MB/s\u001b[0m eta \u001b[36m0:00:00\u001b[0m\n",
            "\u001b[?25hCollecting docker-pycreds>=0.4.0 (from wandb)\n",
            "  Downloading docker_pycreds-0.4.0-py2.py3-none-any.whl (9.0 kB)\n",
            "Requirement already satisfied: PyYAML in /usr/local/lib/python3.10/dist-packages (from wandb) (6.0.1)\n",
            "Collecting setproctitle (from wandb)\n",
            "  Downloading setproctitle-1.3.3-cp310-cp310-manylinux_2_5_x86_64.manylinux1_x86_64.manylinux_2_17_x86_64.manylinux2014_x86_64.whl (30 kB)\n",
            "Requirement already satisfied: setuptools in /usr/local/lib/python3.10/dist-packages (from wandb) (67.7.2)\n",
            "Requirement already satisfied: appdirs>=1.4.3 in /usr/local/lib/python3.10/dist-packages (from wandb) (1.4.4)\n",
            "Requirement already satisfied: protobuf!=4.21.0,<5,>=3.19.0 in /usr/local/lib/python3.10/dist-packages (from wandb) (3.20.3)\n",
            "Requirement already satisfied: six>=1.4.0 in /usr/local/lib/python3.10/dist-packages (from docker-pycreds>=0.4.0->wandb) (1.16.0)\n",
            "Collecting gitdb<5,>=4.0.1 (from GitPython!=3.1.29,>=1.0.0->wandb)\n",
            "  Downloading gitdb-4.0.11-py3-none-any.whl (62 kB)\n",
            "\u001b[2K     \u001b[90m━━━━━━━━━━━━━━━━━━━━━━━━━━━━━━━━━━━━━━━━\u001b[0m \u001b[32m62.7/62.7 kB\u001b[0m \u001b[31m9.7 MB/s\u001b[0m eta \u001b[36m0:00:00\u001b[0m\n",
            "\u001b[?25hRequirement already satisfied: charset-normalizer<4,>=2 in /usr/local/lib/python3.10/dist-packages (from requests<3,>=2.0.0->wandb) (3.3.2)\n",
            "Requirement already satisfied: idna<4,>=2.5 in /usr/local/lib/python3.10/dist-packages (from requests<3,>=2.0.0->wandb) (3.6)\n",
            "Requirement already satisfied: urllib3<3,>=1.21.1 in /usr/local/lib/python3.10/dist-packages (from requests<3,>=2.0.0->wandb) (2.0.7)\n",
            "Requirement already satisfied: certifi>=2017.4.17 in /usr/local/lib/python3.10/dist-packages (from requests<3,>=2.0.0->wandb) (2023.11.17)\n",
            "Collecting smmap<6,>=3.0.1 (from gitdb<5,>=4.0.1->GitPython!=3.1.29,>=1.0.0->wandb)\n",
            "  Downloading smmap-5.0.1-py3-none-any.whl (24 kB)\n",
            "Installing collected packages: smmap, setproctitle, sentry-sdk, docker-pycreds, gitdb, GitPython, wandb\n",
            "Successfully installed GitPython-3.1.41 docker-pycreds-0.4.0 gitdb-4.0.11 sentry-sdk-1.39.2 setproctitle-1.3.3 smmap-5.0.1 wandb-0.16.2\n"
          ]
        }
      ]
    },
    {
      "cell_type": "code",
      "source": [
        "\n",
        "from argparse import ArgumentParser\n",
        "from collections import defaultdict\n",
        "from math import ceil, sin\n",
        "from math import floor\n",
        "\n",
        "import scipy\n",
        "import pandas as pd\n",
        "import numpy as np\n",
        "\n",
        "import numpy as np\n",
        "import torch\n",
        "\n",
        "#import torch_xla\n",
        "#import torch_xla.core.xla_model as xm\n",
        "import torch.nn as nn\n",
        "import torch.nn.functional as F\n",
        "from torch.autograd import grad\n",
        "from torch.autograd.functional import jacobian\n",
        "from torch.nn.modules.container import T\n",
        "\n",
        "from tqdm import tqdm\n",
        "import matplotlib.pyplot as plt\n",
        "from scipy.integrate import solve_ivp\n",
        "import matplotlib as mpl\n",
        "from functools import partial"
      ],
      "metadata": {
        "id": "BoZ4G6nNTm-D"
      },
      "execution_count": 1,
      "outputs": []
    },
    {
      "cell_type": "code",
      "source": [
        "from scipy.interpolate import griddata"
      ],
      "metadata": {
        "id": "LoVp6bHgIQP2"
      },
      "execution_count": 2,
      "outputs": []
    },
    {
      "cell_type": "code",
      "source": [
        "from matplotlib.gridspec import GridSpec"
      ],
      "metadata": {
        "id": "uEpUooBESsQ1"
      },
      "execution_count": 22,
      "outputs": []
    },
    {
      "cell_type": "markdown",
      "source": [
        "Run this notebook with cuda"
      ],
      "metadata": {
        "id": "-BFfiNTaX4UE"
      }
    },
    {
      "cell_type": "code",
      "source": [
        "import wandb"
      ],
      "metadata": {
        "id": "5JtyrI-TTzVi"
      },
      "execution_count": null,
      "outputs": []
    },
    {
      "cell_type": "code",
      "source": [
        "wandb.login()"
      ],
      "metadata": {
        "id": "ITH_8vUaT3S_",
        "colab": {
          "base_uri": "https://localhost:8080/",
          "height": 69
        },
        "outputId": "ca03b5e4-3fb0-4a92-b05f-e94f54ab0ccf"
      },
      "execution_count": null,
      "outputs": [
        {
          "output_type": "display_data",
          "data": {
            "text/plain": [
              "<IPython.core.display.Javascript object>"
            ],
            "application/javascript": [
              "\n",
              "        window._wandbApiKey = new Promise((resolve, reject) => {\n",
              "            function loadScript(url) {\n",
              "            return new Promise(function(resolve, reject) {\n",
              "                let newScript = document.createElement(\"script\");\n",
              "                newScript.onerror = reject;\n",
              "                newScript.onload = resolve;\n",
              "                document.body.appendChild(newScript);\n",
              "                newScript.src = url;\n",
              "            });\n",
              "            }\n",
              "            loadScript(\"https://cdn.jsdelivr.net/npm/postmate/build/postmate.min.js\").then(() => {\n",
              "            const iframe = document.createElement('iframe')\n",
              "            iframe.style.cssText = \"width:0;height:0;border:none\"\n",
              "            document.body.appendChild(iframe)\n",
              "            const handshake = new Postmate({\n",
              "                container: iframe,\n",
              "                url: 'https://wandb.ai/authorize'\n",
              "            });\n",
              "            const timeout = setTimeout(() => reject(\"Couldn't auto authenticate\"), 5000)\n",
              "            handshake.then(function(child) {\n",
              "                child.on('authorize', data => {\n",
              "                    clearTimeout(timeout)\n",
              "                    resolve(data)\n",
              "                });\n",
              "            });\n",
              "            })\n",
              "        });\n",
              "    "
            ]
          },
          "metadata": {}
        },
        {
          "output_type": "stream",
          "name": "stderr",
          "text": [
            "\u001b[34m\u001b[1mwandb\u001b[0m: Appending key for api.wandb.ai to your netrc file: /root/.netrc\n"
          ]
        },
        {
          "output_type": "execute_result",
          "data": {
            "text/plain": [
              "True"
            ]
          },
          "metadata": {},
          "execution_count": 58
        }
      ]
    },
    {
      "cell_type": "code",
      "source": [
        "!pip install pyDOE"
      ],
      "metadata": {
        "id": "mSObD_4dX2v5",
        "colab": {
          "base_uri": "https://localhost:8080/"
        },
        "outputId": "b4bd4814-ce66-4190-a134-c4aed67da577"
      },
      "execution_count": 3,
      "outputs": [
        {
          "output_type": "stream",
          "name": "stdout",
          "text": [
            "Collecting pyDOE\n",
            "  Downloading pyDOE-0.3.8.zip (22 kB)\n",
            "  Preparing metadata (setup.py) ... \u001b[?25l\u001b[?25hdone\n",
            "Requirement already satisfied: numpy in /usr/local/lib/python3.10/dist-packages (from pyDOE) (1.23.5)\n",
            "Requirement already satisfied: scipy in /usr/local/lib/python3.10/dist-packages (from pyDOE) (1.11.4)\n",
            "Building wheels for collected packages: pyDOE\n",
            "  Building wheel for pyDOE (setup.py) ... \u001b[?25l\u001b[?25hdone\n",
            "  Created wheel for pyDOE: filename=pyDOE-0.3.8-py3-none-any.whl size=18168 sha256=8124fba9e2eba378f67781942a7ca05d2bb3fec4753f43df56345f60b256560b\n",
            "  Stored in directory: /root/.cache/pip/wheels/ce/b6/d7/c6b64746dba6433c593e471e0ac3acf4f36040456d1d160d17\n",
            "Successfully built pyDOE\n",
            "Installing collected packages: pyDOE\n",
            "Successfully installed pyDOE-0.3.8\n"
          ]
        }
      ]
    },
    {
      "cell_type": "code",
      "source": [
        "device = torch.device(\"cuda\" if torch.cuda.is_available() else \"cpu\")\n",
        "#device=xm.xla_device()"
      ],
      "metadata": {
        "id": "gYR3HnJs9FmP"
      },
      "execution_count": 4,
      "outputs": []
    },
    {
      "cell_type": "code",
      "source": [
        "device"
      ],
      "metadata": {
        "colab": {
          "base_uri": "https://localhost:8080/"
        },
        "id": "mmnRRWpJaSia",
        "outputId": "1fa15eea-370b-4a8a-fd94-feccb74e16cd"
      },
      "execution_count": 5,
      "outputs": [
        {
          "output_type": "execute_result",
          "data": {
            "text/plain": [
              "device(type='cuda')"
            ]
          },
          "metadata": {},
          "execution_count": 5
        }
      ]
    },
    {
      "cell_type": "code",
      "source": [
        "from pyDOE import lhs"
      ],
      "metadata": {
        "id": "PqwLH7ZLKQxi"
      },
      "execution_count": 6,
      "outputs": []
    },
    {
      "cell_type": "code",
      "source": [
        "#v = torch.tensor(1.0/torch.pi**2)  # Viscosity coefficient\n",
        "v = (0.01/torch.pi)  # From Raissi article\n",
        "\n",
        "\n",
        "hidden_dim = 50\n",
        "hidden_layers = 6\n",
        "input_dim=2\n",
        "output_dim=1\n",
        "lambda_f=1\n",
        "resblocks=0 # 0 when not Resnet\n",
        "activation='tanh'\n",
        "learningRate=0.0001\n",
        "wd=1e-5      # 1e-5 er bedst\n",
        "n_epochs=6000\n",
        "N=2000\n",
        "N_f=1000\n",
        "N_u=2000\n",
        "network='MLP' # Or Resnet, DeepOnet"
      ],
      "metadata": {
        "id": "R9458N0WzsDl"
      },
      "execution_count": 7,
      "outputs": []
    },
    {
      "cell_type": "code",
      "source": [
        "\n",
        "wandb.init(\n",
        "    # set the wandb project where this run will be logged\n",
        "    project=\"Burgesfinal\",\n",
        "\n",
        "    # track hyperparameters and run metadata\n",
        "    config={\n",
        "    \"Viscosity\": v,\n",
        "    \"N_f\":N_f,\n",
        "    \"N_u\":N_u,\n",
        "    \"learning_rate\": learningRate,\n",
        "    \"weight_decay\": wd,\n",
        "    \"hidden_layers\": hidden_layers,\n",
        "    \"hidden_dim\": hidden_dim,\n",
        "    'input_dim': input_dim,\n",
        "    'output_dim': output_dim,\n",
        "    'activation':activation,\n",
        "    'lambda': lambda_f,\n",
        "    'numResblocks': resblocks,\n",
        "    \"epochs\": n_epochs,\n",
        "    'network': network\n",
        "    }\n",
        ")"
      ],
      "metadata": {
        "colab": {
          "base_uri": "https://localhost:8080/",
          "height": 125
        },
        "id": "WjJE4qrEYGjS",
        "outputId": "ff208a25-1799-4fea-e301-ccbf45808e46"
      },
      "execution_count": null,
      "outputs": [
        {
          "output_type": "display_data",
          "data": {
            "text/plain": [
              "<IPython.core.display.HTML object>"
            ],
            "text/html": [
              "Tracking run with wandb version 0.16.2"
            ]
          },
          "metadata": {}
        },
        {
          "output_type": "display_data",
          "data": {
            "text/plain": [
              "<IPython.core.display.HTML object>"
            ],
            "text/html": [
              "Run data is saved locally in <code>/content/wandb/run-20240116_180953-bzrlsq7i</code>"
            ]
          },
          "metadata": {}
        },
        {
          "output_type": "display_data",
          "data": {
            "text/plain": [
              "<IPython.core.display.HTML object>"
            ],
            "text/html": [
              "Syncing run <strong><a href='https://wandb.ai/sojohan/Burgesfinal/runs/bzrlsq7i' target=\"_blank\">iconic-field-81</a></strong> to <a href='https://wandb.ai/sojohan/Burgesfinal' target=\"_blank\">Weights & Biases</a> (<a href='https://wandb.me/run' target=\"_blank\">docs</a>)<br/>"
            ]
          },
          "metadata": {}
        },
        {
          "output_type": "display_data",
          "data": {
            "text/plain": [
              "<IPython.core.display.HTML object>"
            ],
            "text/html": [
              " View project at <a href='https://wandb.ai/sojohan/Burgesfinal' target=\"_blank\">https://wandb.ai/sojohan/Burgesfinal</a>"
            ]
          },
          "metadata": {}
        },
        {
          "output_type": "display_data",
          "data": {
            "text/plain": [
              "<IPython.core.display.HTML object>"
            ],
            "text/html": [
              " View run at <a href='https://wandb.ai/sojohan/Burgesfinal/runs/bzrlsq7i' target=\"_blank\">https://wandb.ai/sojohan/Burgesfinal/runs/bzrlsq7i</a>"
            ]
          },
          "metadata": {}
        },
        {
          "output_type": "execute_result",
          "data": {
            "text/html": [
              "<button onClick=\"this.nextSibling.style.display='block';this.style.display='none';\">Display W&B run</button><iframe src='https://wandb.ai/sojohan/Burgesfinal/runs/bzrlsq7i?jupyter=true' style='border:none;width:100%;height:420px;display:none;'></iframe>"
            ],
            "text/plain": [
              "<wandb.sdk.wandb_run.Run at 0x7f8937e99240>"
            ]
          },
          "metadata": {},
          "execution_count": 618
        }
      ]
    },
    {
      "cell_type": "code",
      "source": [
        "# function to plot the three loss terms initial/boundary condition and residual\n",
        "def plot_loss(losses):\n",
        "    fig, ax = plt.subplots()\n",
        "    fig.canvas.manager.set_window_title(\"Loss terms\")\n",
        "\n",
        "    # Extract the loss values from the dictionary\n",
        "    lossNN = losses[\"Res\"]\n",
        "    lossBC = losses[\"BC\"]\n",
        "    lossIC=losses['IC']\n",
        "    #lossData=losses[\"Data\"]\n",
        "    # Plot both losses\n",
        "    ax.plot(lossNN, label='Residual')\n",
        "    ax.plot(lossBC, label='BC')\n",
        "    ax.plot(lossIC, label='IC')\n",
        "    #ax.plot(lossData, label='Data')\n",
        "\n",
        "    ax.legend()\n",
        "    ax.set_xlabel(\"Epoch\")\n",
        "    ax.set_ylabel(\"Loss\")\n",
        "    ax.set_title(\"Neural Network and Equation Losses over Epochs\")\n",
        "    plt.show()\n"
      ],
      "metadata": {
        "id": "MJ4H4cht4HE_"
      },
      "execution_count": 8,
      "outputs": []
    },
    {
      "cell_type": "code",
      "source": [
        "losses = defaultdict(list)"
      ],
      "metadata": {
        "id": "mMRzIcZF2aM8"
      },
      "execution_count": 9,
      "outputs": []
    },
    {
      "cell_type": "code",
      "source": [
        "# Xavier initialization\n",
        "def xavier_init(module):\n",
        "        for m in module.modules():\n",
        "            if type(m) == nn.Linear:\n",
        "                nn.init.xavier_uniform_(m.weight)\n"
      ],
      "metadata": {
        "id": "7uIjfCsAzzUB"
      },
      "execution_count": 12,
      "outputs": []
    },
    {
      "cell_type": "code",
      "source": [
        "# Sinusoidal activation function\n",
        "class SinusActivation(nn.Module):\n",
        "    def __init__(self):\n",
        "        super().__init__()\n",
        "\n",
        "    def forward(self, x):\n",
        "        return torch.sin(x)"
      ],
      "metadata": {
        "id": "bF03o766z5RR"
      },
      "execution_count": 13,
      "outputs": []
    },
    {
      "cell_type": "code",
      "source": [
        "# MLP Neural network as a function of the number of neurons, layers and the activation function\n",
        "\n",
        "def construct_network(input_dim, output_dim, hidden_dim, hidden_layers, activation):\n",
        "    # Activation function mapping\n",
        "    activations = {\n",
        "        'swish': nn.SiLU,\n",
        "        'tanh': nn.Tanh,\n",
        "        'relu': nn.ReLU,\n",
        "        'gelu': nn.GELU,\n",
        "        'softplus': nn.Softplus,\n",
        "        'sin': SinusActivation\n",
        "    }\n",
        "\n",
        "    # Check if activation is valid\n",
        "    if activation not in activations:\n",
        "        raise ValueError(f\"Invalid activation function. Expected one of: {list(activations.keys())}\")\n",
        "\n",
        "    ActivationFunc = activations[activation]\n",
        "\n",
        "    # Construct the layers\n",
        "    layers = [nn.Linear(input_dim, hidden_dim), ActivationFunc()]\n",
        "    for _ in range(hidden_layers):\n",
        "        layers.extend([nn.Linear(hidden_dim, hidden_dim), ActivationFunc()])\n",
        "    layers.append(nn.Linear(hidden_dim, output_dim))\n",
        "    layers.append(ActivationFunc())  # Activation function for the output layer\n",
        "\n",
        "\n",
        "    # Create the network\n",
        "    net = nn.Sequential(*layers).double().to(device)\n",
        "\n",
        "    xavier_init(net)\n",
        "    return net\n",
        "\n",
        "# Example usage:\n",
        "# net = construct_network(10, 2, 128, 3, 'relu', device='cuda')\n"
      ],
      "metadata": {
        "id": "trSChYnBz-RU"
      },
      "execution_count": 14,
      "outputs": []
    },
    {
      "cell_type": "code",
      "source": [
        "# Add the two new learnable parameters to the network\n",
        "class PINN(nn.Module):\n",
        "    def __init__(self, base_network):\n",
        "        super(PINN, self).__init__()\n",
        "        self.network = base_network\n",
        "        self.nu = nn.Parameter(torch.tensor([-6.0], dtype=torch.float64))  # Initialize nu as a learnable parameter\n",
        "        self.phi=nn.Parameter(torch.tensor([0.5], dtype=torch.float64))\n",
        "    def forward(self, x):\n",
        "        return self.network(x)"
      ],
      "metadata": {
        "id": "ZMUC6LFe38qQ"
      },
      "execution_count": 15,
      "outputs": []
    },
    {
      "cell_type": "code",
      "source": [
        "# Model parameters\n",
        "\n",
        "# Set random seed for reproducibility\n",
        "torch.manual_seed(54)\n",
        "\n",
        "# Interior conditions\n",
        "#x_int = torch.rand(N, 2)  # [t; x], both in [0, 1]\n",
        "\n",
        "\n",
        "x_int = lhs(2, N_f)  # [t; x], both in [0, 1]\n",
        "#x_int=torch.rand(N_f,2)\n",
        "x_int=torch.tensor(x_int)\n",
        "x_int[..., 1] = 2 * (x_int[..., 1] - 0.5)  # shift x to [-1, 1]\n",
        "#x_int_1=x_int[..., 1]\n",
        "u_int = torch.zeros(N_f, 1) # original\n",
        "u_train=-torch.exp(-x_int[...,0]) * torch.sin(torch.pi * x_int[...,1])\n",
        "\n",
        "\n",
        "# Initial conditions\n",
        "x_ini = torch.rand(N_u, 2)\n",
        "x_ini[..., 0] = 0  # t = 0\n",
        "x_ini[..., 1] = 2 * (x_ini[..., 1] - 0.5)  # x, -1 to 1\n",
        "u_ini = torch.sin(-torch.pi * x_ini[..., 1]).reshape(N_u, 1)\n",
        "\n",
        "\n",
        "# Boundary conditions\n",
        "x_bc = torch.rand(N_u, 2)  # t, 0 to 1\n",
        "x_bc[..., 1] = torch.tensor([-1, 1])[torch.randint(0, 2, (N_u,))]  # -1 or 1\n",
        "u_bc = torch.zeros(N_u, 1)\n",
        "\n",
        "\n",
        "# Merge inputs\n",
        "#x_inp = torch.cat([x_int,x_bc, x_ini], dim=0).float()\n",
        "x_inp = torch.cat([x_int, x_bc, x_ini], dim=0).float()\n",
        "\n",
        "u_inp = torch.cat([u_int, u_bc, u_ini], dim=0).float()\n",
        "#u_inp = torch.cat([u_bc, u_ini], dim=0).float()\n",
        "\n",
        "\n",
        "# Print shapes to verify\n",
        "print(f\"x_inp shape: {x_inp.shape}, u_inp shape: {u_inp.shape}\")\n",
        "x_bc_inp = x_bc\n",
        "x_ini_inp = x_ini\n",
        "#x_inp = x_int\n",
        "u_bc_inp = u_bc\n",
        "u_ini_inp = u_ini\n",
        "#u_inp = u_int\n",
        "\n",
        "x_inp = torch.reshape(x_inp,(-1,2));\n",
        "u_inp = torch.reshape(u_inp,(-1,1));\n",
        "\n",
        "x_bc_inp = torch.reshape(x_bc_inp,(-1,2));\n",
        "u_bc_inp = torch.reshape(u_bc_inp,(-1,1));\n",
        "\n",
        "x_ini_inp = torch.reshape(x_ini_inp,(-1,2));\n",
        "u_ini_inp = torch.reshape(u_ini_inp,(-1,1));\n",
        "\n",
        "\n",
        "\n"
      ],
      "metadata": {
        "colab": {
          "base_uri": "https://localhost:8080/"
        },
        "id": "tdxngM5iduat",
        "outputId": "9707f520-957c-46b3-a628-69b59b98dad9"
      },
      "execution_count": 16,
      "outputs": [
        {
          "output_type": "stream",
          "name": "stdout",
          "text": [
            "x_inp shape: torch.Size([5000, 2]), u_inp shape: torch.Size([5000, 1])\n"
          ]
        }
      ]
    },
    {
      "cell_type": "code",
      "source": [
        "data = scipy.io.loadmat('/content/sample_data/burgers_shock.mat')"
      ],
      "metadata": {
        "id": "LX60Fdf3TAoF"
      },
      "execution_count": 17,
      "outputs": []
    },
    {
      "cell_type": "code",
      "source": [
        "#data = scipy.io.loadmat('/content/sample_data/burgers_shock.mat')\n",
        "t = data['t'].flatten()[:,None]\n",
        "x = data['x'].flatten()[:,None]\n",
        "Exact = np.real(data['usol']).T\n",
        "X, T = np.meshgrid(x,t)\n"
      ],
      "metadata": {
        "id": "p5mQb6f1hnq-"
      },
      "execution_count": 18,
      "outputs": []
    },
    {
      "cell_type": "code",
      "source": [
        "X_star = np.hstack((T.flatten()[:,None],X.flatten()[:,None]))\n",
        "u_star = Exact.flatten()[:,None]\n"
      ],
      "metadata": {
        "id": "sZKs-L5rCpnL"
      },
      "execution_count": 19,
      "outputs": []
    },
    {
      "cell_type": "code",
      "source": [
        "idx = np.random.choice(X_star.shape[0], N_u, replace=False)\n",
        "X_u_train = torch.tensor(X_star[idx,:]).requires_grad_(True)\n",
        "u_train = torch.tensor(u_star[idx,:])"
      ],
      "metadata": {
        "id": "MTGvVVAmCs-y"
      },
      "execution_count": 20,
      "outputs": []
    },
    {
      "cell_type": "code",
      "source": [
        " ####### Row 0: u(t,x) ##################\n",
        "gs0 = GridSpec(1, 2)\n",
        "gs0.update(top=1-0.06, bottom=1-1/3, left=0.15, right=0.85, wspace=0)\n",
        "ax = plt.subplot(gs0[:, :])\n",
        "\n",
        "h = ax.imshow(Exact.T, interpolation='nearest', cmap='rainbow',\n",
        "                  extent=[t.min(), t.max(), x.min(), x.max()],\n",
        "                  origin='lower', aspect='auto')\n",
        "  #divider = make_axes_locatable(ax)\n",
        "  #cax = divider.append_axes(\"right\", size=\"5%\", pad=0.05)\n",
        "  #fig.colorbar(h, cax=cax)"
      ],
      "metadata": {
        "colab": {
          "base_uri": "https://localhost:8080/",
          "height": 197
        },
        "id": "UYZdz0MU5JXw",
        "outputId": "f5c76163-4e9f-481c-9add-03b62e99fc0c"
      },
      "execution_count": 23,
      "outputs": [
        {
          "output_type": "display_data",
          "data": {
            "text/plain": [
              "<Figure size 640x480 with 1 Axes>"
            ],
            "image/png": "[encoded data removed]"
          },
          "metadata": {}
        }
      ]
    },
    {
      "cell_type": "code",
      "source": [
        "def data_loss(xint,u_obs):\n",
        "  u_pred=model(xint.double().to(device))\n",
        "  #print(u_obs.shape)\n",
        "  return torch.mean((u_pred.flatten()-u_obs.double().to(device).flatten())**2)"
      ],
      "metadata": {
        "id": "GMvylMsBbh9S"
      },
      "execution_count": 24,
      "outputs": []
    },
    {
      "cell_type": "code",
      "source": [
        "def loss_initial(xinit,uinit):\n",
        "  # Predictions for initial\n",
        "  u_ini_pred = model(xinit.double().to(device))\n",
        "  # Initial loss\n",
        "  return torch.mean((u_ini_pred.flatten() - uinit.double().to(device).flatten())**2)"
      ],
      "metadata": {
        "id": "leOLdKGf1Gn5"
      },
      "execution_count": 25,
      "outputs": []
    },
    {
      "cell_type": "code",
      "source": [
        "def loss_boundary(xbc,ubc):\n",
        "  # Predictions for boundary conditions\n",
        "  u_bc_pred = model(xbc.double().to(device))\n",
        "  # Loss for boundary conditions\n",
        "  return torch.mean((u_bc_pred.flatten() - ubc.double().to(device).flatten())**2)"
      ],
      "metadata": {
        "id": "v9M7PwT41M1P"
      },
      "execution_count": 26,
      "outputs": []
    },
    {
      "cell_type": "code",
      "source": [
        "def loss_residual(xint):\n",
        "  # interior points\n",
        "  # Compute gradients for the Burger's Equation\n",
        "  xint.requires_grad_(True)\n",
        "  # Model prediction\n",
        "  u = model(xint.double().to(device))\n",
        "  # Gradients of u with respect to x\n",
        "  u_x = torch.autograd.grad(u, xint, grad_outputs=torch.ones_like(u), create_graph=True)[0]\n",
        "  # Components of the gradient\n",
        "  u_t = u_x[:, 0]\n",
        "  u_x = u_x[:, 1]\n",
        "\n",
        "  # Second derivative with respect to x\n",
        "  u_xx = torch.autograd.grad(u_x, xint, grad_outputs=torch.ones_like(u_x), create_graph=True)[0][:, 1]\n",
        "  # Burger's Equation Residual\n",
        "  f = u_t.to(device) + (model.phi.to(device)*u.flatten() * u_x.to(device)) - (torch.exp(model.nu).to(device) * u_xx.to(device))\n",
        "  # Return interior loss\n",
        "  return torch.mean(f**2)\n"
      ],
      "metadata": {
        "id": "f6hFCL4T1XuR"
      },
      "execution_count": 27,
      "outputs": []
    },
    {
      "cell_type": "code",
      "source": [
        " # Initialize the model\n",
        "#model = PINN()\n",
        "#model = PhysicsInformedNet().double().to(device)\n",
        "base_network = construct_network(input_dim, output_dim, hidden_dim, hidden_layers, activation)\n",
        "model = PINN(base_network).double().to(device)\n",
        "#model=construct_network(input_dim, output_dim, hidden_dim, hidden_layers, activation)\n",
        "\n",
        "#model = SimpleResNetScalar(num_classes=output_dim, features=hidden_dim, num_blocks=resblocks).double().to(device)\n",
        "optimizer = torch.optim.Adam(model.parameters(), lr=learningRate, weight_decay=wd)\n",
        "\n"
      ],
      "metadata": {
        "id": "1ke70Z6qfMRX"
      },
      "execution_count": 28,
      "outputs": []
    },
    {
      "cell_type": "code",
      "source": [
        "print(model)"
      ],
      "metadata": {
        "colab": {
          "base_uri": "https://localhost:8080/"
        },
        "id": "Y2v0PfM_UyMq",
        "outputId": "5a2de2d1-a3c6-46e3-805c-0a0f426d5db4"
      },
      "execution_count": 29,
      "outputs": [
        {
          "output_type": "stream",
          "name": "stdout",
          "text": [
            "PINN(\n",
            "  (network): Sequential(\n",
            "    (0): Linear(in_features=2, out_features=50, bias=True)\n",
            "    (1): Tanh()\n",
            "    (2): Linear(in_features=50, out_features=50, bias=True)\n",
            "    (3): Tanh()\n",
            "    (4): Linear(in_features=50, out_features=50, bias=True)\n",
            "    (5): Tanh()\n",
            "    (6): Linear(in_features=50, out_features=50, bias=True)\n",
            "    (7): Tanh()\n",
            "    (8): Linear(in_features=50, out_features=50, bias=True)\n",
            "    (9): Tanh()\n",
            "    (10): Linear(in_features=50, out_features=50, bias=True)\n",
            "    (11): Tanh()\n",
            "    (12): Linear(in_features=50, out_features=50, bias=True)\n",
            "    (13): Tanh()\n",
            "    (14): Linear(in_features=50, out_features=1, bias=True)\n",
            "    (15): Tanh()\n",
            "  )\n",
            ")\n"
          ]
        }
      ]
    },
    {
      "cell_type": "code",
      "source": [
        "losses={}\n",
        "losses[\"Res\"] = []\n",
        "losses[\"BC\"] = []\n",
        "losses[\"IC\"]=[]\n",
        "#losses[\"Data\"]=[]\n",
        "flag_data=True\n",
        "total_loss = []\n",
        "   # Train Model\n",
        "for epoch in range(n_epochs):\n",
        "  optimizer.zero_grad()\n",
        "  #loss_ini=loss_initial(x_ini_inp,u_ini_inp)\n",
        "  #loss_bc=loss_boundary(x_bc_inp,u_bc_inp)\n",
        "  #loss_res=loss_residual(x_inp)\n",
        "  loss_res=loss_residual(X_u_train)\n",
        "  loss_data=data_loss(X_u_train, u_train)\n",
        "  #print(loss_data.shape)\n",
        "  total_loss = lambda_f*(loss_res)+loss_data\n",
        "  #+loss_bc+loss_ini\n",
        "  #+flag_data*(loss_data)\n",
        "  #total_loss = loss_bc+loss_ini+loss_data\n",
        "\n",
        "  # Backward pass\n",
        "  total_loss.backward()\n",
        "  optimizer.step()\n",
        "\n",
        "  losses['Res'].append(loss_res.item())\n",
        "  #losses['BC'].append(loss_bc.item())\n",
        "  #losses['IC'].append(loss_ini.item())\n",
        "  #losses['Data'].append(loss_data.item())\n",
        "\n",
        "  # Report History\n",
        "  #wandb.log({\"lossRES\": loss_res.item(),\n",
        "  #                     \"lossInitial \": loss_ini.item(),\n",
        "  #                     \"LossBoundary\": loss_bc.item(),\n",
        "  #                      \"LossTotal\": total_loss.item()})\n",
        "\n",
        "  if epoch % 100 == 0:\n",
        "       print(f'Epoch {epoch}, Loss: {total_loss.item()}, Nu: {model.nu.item()}, lambda1: {model.phi.item()}')\n",
        "\n"
      ],
      "metadata": {
        "colab": {
          "base_uri": "https://localhost:8080/"
        },
        "id": "owNvRISPejIC",
        "outputId": "fa0920ee-7c30-4df9-9216-a70d028ab583"
      },
      "execution_count": 30,
      "outputs": [
        {
          "output_type": "stream",
          "name": "stdout",
          "text": [
            "Epoch 0, Loss: 0.6038032821670071, Nu: -5.999900010476064, lambda1: 0.4999000000697718\n",
            "Epoch 100, Loss: 0.24718874620485826, Nu: -5.98747353653494, lambda1: 0.48834745786551326\n",
            "Epoch 200, Loss: 0.23479857551783354, Nu: -5.975212314653836, lambda1: 0.47731974143905587\n",
            "Epoch 300, Loss: 0.19969974719237277, Nu: -5.963460642055191, lambda1: 0.46977477484720875\n",
            "Epoch 400, Loss: 0.10296758834724197, Nu: -5.937854343793857, lambda1: 0.45636218941282225\n",
            "Epoch 500, Loss: 0.08033275558828525, Nu: -5.910410277377186, lambda1: 0.4332181489465365\n",
            "Epoch 600, Loss: 0.0692988878571513, Nu: -5.891934143446762, lambda1: 0.4160393834221168\n",
            "Epoch 700, Loss: 0.05918661597930156, Nu: -5.876210423340016, lambda1: 0.40172718010650454\n",
            "Epoch 800, Loss: 0.050407692267492185, Nu: -5.861152820375677, lambda1: 0.3891047501747533\n",
            "Epoch 900, Loss: 0.04330580502899058, Nu: -5.845780966262319, lambda1: 0.37746371103380627\n",
            "Epoch 1000, Loss: 0.03668020494689893, Nu: -5.829202710108023, lambda1: 0.3662928798411854\n",
            "Epoch 1100, Loss: 0.02872451739831987, Nu: -5.81074581424404, lambda1: 0.3553772467234669\n",
            "Epoch 1200, Loss: 0.020359792233681662, Nu: -5.793222968306353, lambda1: 0.34619190211495104\n",
            "Epoch 1300, Loss: 0.017929060985452584, Nu: -5.78603143650366, lambda1: 0.3427258851107159\n",
            "Epoch 1400, Loss: 0.017260019994477762, Nu: -5.784301341159621, lambda1: 0.3421787051562419\n",
            "Epoch 1500, Loss: 0.01685982185313933, Nu: -5.7834669388215625, lambda1: 0.3423197528414211\n",
            "Epoch 1600, Loss: 0.016563501268495658, Nu: -5.7829240628301015, lambda1: 0.342836109674982\n",
            "Epoch 1700, Loss: 0.016319485506603663, Nu: -5.782504777246607, lambda1: 0.34364485193380706\n",
            "Epoch 1800, Loss: 0.016101990757007204, Nu: -5.782125808694989, lambda1: 0.34470942815677635\n",
            "Epoch 1900, Loss: 0.01589317576686188, Nu: -5.781719739491029, lambda1: 0.346007499856729\n",
            "Epoch 2000, Loss: 0.01567654125163529, Nu: -5.781201894167487, lambda1: 0.3475188106591325\n",
            "Epoch 2100, Loss: 0.015433223141943496, Nu: -5.780454586124131, lambda1: 0.34922309962143616\n",
            "Epoch 2200, Loss: 0.015140570418808527, Nu: -5.779339270512365, lambda1: 0.35111249304852116\n",
            "Epoch 2300, Loss: 0.014774910539054028, Nu: -5.777749109769953, lambda1: 0.35322340184564777\n",
            "Epoch 2400, Loss: 0.014331685548783038, Nu: -5.7757703960482845, lambda1: 0.3557076243610269\n",
            "Epoch 2500, Loss: 0.013855958351191355, Nu: -5.773939314741591, lambda1: 0.3588992082795308\n",
            "Epoch 2600, Loss: 0.013417951668509294, Nu: -5.7730171075301, lambda1: 0.36313034835955377\n",
            "Epoch 2700, Loss: 0.013041635932973045, Nu: -5.773339216911604, lambda1: 0.36842260816808764\n",
            "Epoch 2800, Loss: 0.0127041372161231, Nu: -5.774569267432119, lambda1: 0.3744717272412119\n",
            "Epoch 2900, Loss: 0.01238642477259039, Nu: -5.7762418942635, lambda1: 0.38096032142553127\n",
            "Epoch 3000, Loss: 0.012078979622496487, Nu: -5.778070909950226, lambda1: 0.3877007771244152\n",
            "Epoch 3100, Loss: 0.011776904035059816, Nu: -5.779896109871026, lambda1: 0.39459568485644986\n",
            "Epoch 3200, Loss: 0.01147786235151919, Nu: -5.781638156513847, lambda1: 0.4016004968998699\n",
            "Epoch 3300, Loss: 0.011180835469513938, Nu: -5.783270173948175, lambda1: 0.4086998702801275\n",
            "Epoch 3400, Loss: 0.010884887417050609, Nu: -5.784797298773192, lambda1: 0.415893460090869\n",
            "Epoch 3500, Loss: 0.010588395208746607, Nu: -5.786245094222068, lambda1: 0.4231893569236586\n",
            "Epoch 3600, Loss: 0.010289177447595171, Nu: -5.787657231381919, lambda1: 0.4306019894433303\n",
            "Epoch 3700, Loss: 0.00998639594550449, Nu: -5.789092749173096, lambda1: 0.4381477974357293\n",
            "Epoch 3800, Loss: 0.009678115038922014, Nu: -5.790631999643358, lambda1: 0.4458445742715991\n",
            "Epoch 3900, Loss: 0.009365789238127998, Nu: -5.792395139453648, lambda1: 0.4537172115068839\n",
            "Epoch 4000, Loss: 0.009048756077873725, Nu: -5.794448618684461, lambda1: 0.46175779142038925\n",
            "Epoch 4100, Loss: 0.008740014925141768, Nu: -5.7968267642874505, lambda1: 0.4699446420405966\n",
            "Epoch 4200, Loss: 0.008432158960662189, Nu: -5.799450842674148, lambda1: 0.47821730762199266\n",
            "Epoch 4300, Loss: 0.008137242877968378, Nu: -5.802218393489454, lambda1: 0.48652249298555844\n",
            "Epoch 4400, Loss: 0.007850509220915076, Nu: -5.80506822389639, lambda1: 0.4948322768770787\n",
            "Epoch 4500, Loss: 0.007570164406075688, Nu: -5.807963274789245, lambda1: 0.503133521776202\n",
            "Epoch 4600, Loss: 0.007296001288859895, Nu: -5.810923922949704, lambda1: 0.5114296065888561\n",
            "Epoch 4700, Loss: 0.0070387118868792155, Nu: -5.813939093791323, lambda1: 0.5197235965646793\n",
            "Epoch 4800, Loss: 0.0067737878162329864, Nu: -5.816907258614841, lambda1: 0.5279990454744217\n",
            "Epoch 4900, Loss: 0.0065199224314457654, Nu: -5.819711138341751, lambda1: 0.5362383956387324\n",
            "Epoch 5000, Loss: 0.006266909307322512, Nu: -5.822262682263134, lambda1: 0.5444301384676551\n",
            "Epoch 5100, Loss: 0.00603732927747111, Nu: -5.824500475440799, lambda1: 0.5525722884263314\n",
            "Epoch 5200, Loss: 0.0058004175752658284, Nu: -5.826416917392762, lambda1: 0.5606704275357018\n",
            "Epoch 5300, Loss: 0.005573839338310847, Nu: -5.82798152928227, lambda1: 0.5687200931338467\n",
            "Epoch 5400, Loss: 0.00535883666485259, Nu: -5.829213112768038, lambda1: 0.576717849430224\n",
            "Epoch 5500, Loss: 0.005142142037804394, Nu: -5.830159499755961, lambda1: 0.5846556743118311\n",
            "Epoch 5600, Loss: 0.004936746956434188, Nu: -5.830876820016002, lambda1: 0.5925318574093876\n",
            "Epoch 5700, Loss: 0.004749082339351458, Nu: -5.83144151131893, lambda1: 0.6003500774277581\n",
            "Epoch 5800, Loss: 0.00454896800862525, Nu: -5.831874773238924, lambda1: 0.6081000220894406\n",
            "Epoch 5900, Loss: 0.004371558001605573, Nu: -5.832206165139482, lambda1: 0.615776342988921\n"
          ]
        }
      ]
    },
    {
      "cell_type": "code",
      "source": [
        "print('Truth',v)\n",
        "estimate_nu=np.exp(model.nu.item())\n",
        "print('Estimated v',estimate_nu)\n",
        "print('Estimated lambda1',model.phi.item())\n",
        "print('% error',np.abs(  (estimate_nu-v)/v  )*100   )\n",
        "print('% error', np.abs(model.phi.item()-1.0)*100     )"
      ],
      "metadata": {
        "colab": {
          "base_uri": "https://localhost:8080/"
        },
        "id": "6TPYQ-8HmfXL",
        "outputId": "9d767b9d-2a83-48b1-f91d-0b0b61f9967b"
      },
      "execution_count": 31,
      "outputs": [
        {
          "output_type": "stream",
          "name": "stdout",
          "text": [
            "Truth 0.003183098861837907\n",
            "Estimated v 0.002930860842286387\n",
            "Estimated lambda1 0.6233056427794699\n",
            "% error 7.924291091790946\n",
            "% error 37.66943572205301\n"
          ]
        }
      ]
    }
  ]
}